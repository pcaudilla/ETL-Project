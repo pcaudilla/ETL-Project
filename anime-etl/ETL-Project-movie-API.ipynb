{
 "cells": [
  {
   "cell_type": "code",
   "execution_count": 1,
   "metadata": {},
   "outputs": [],
   "source": [
    "import requests\n",
    "from rawg import Rawg\n",
    "import rawgpy\n",
    "# Dependencies\n",
    "from bs4 import BeautifulSoup\n",
    "#import requests\n",
    "import pymongo\n",
    "import pprint\n",
    "from splinter import Browser\n",
    "import pandas as pd"
   ]
  },
  {
   "cell_type": "markdown",
   "metadata": {},
   "source": [
    "pip install rawgpy"
   ]
  },
  {
   "cell_type": "code",
   "execution_count": 2,
   "metadata": {},
   "outputs": [],
   "source": [
    "executable_path = {'executable_path': 'chromedriver.exe'}\n",
    "browser = Browser('chrome', **executable_path, headless=False)"
   ]
  },
  {
   "cell_type": "code",
   "execution_count": 3,
   "metadata": {},
   "outputs": [],
   "source": [
    "pic_url = 'https://myvideogamelist.com/platform/PlayStation_4'\n",
    "browser.visit(pic_url)\n",
    "#browser.click_link_by_partial_text('FULL IMAGE')"
   ]
  },
  {
   "cell_type": "code",
   "execution_count": 27,
   "metadata": {},
   "outputs": [
    {
     "name": "stdout",
     "output_type": "stream",
     "text": [
      "METAL SLUG 2\n"
     ]
    }
   ],
   "source": [
    "rawg = rawgpy.RAWG(\"User-Agent, Student datascrape project\")\n",
    "results = rawg.search(\"metal\")\n",
    "\n",
    "game = results[2]\n",
    "#game = results[0]\n",
    "game.populate()  # get additional info for the game\n",
    "print(game.name)"
   ]
  },
  {
   "cell_type": "code",
   "execution_count": 28,
   "metadata": {},
   "outputs": [
    {
     "name": "stdout",
     "output_type": "stream",
     "text": [
      "Metal\n",
      "METAL SLUG\n",
      "METAL SLUG 2\n",
      "Metal Gear Solid\n",
      "METAL GEAR RISING: REVENGEANCE\n"
     ]
    }
   ],
   "source": [
    "for result in results:\n",
    "    print(result.name)"
   ]
  },
  {
   "cell_type": "code",
   "execution_count": 29,
   "metadata": {},
   "outputs": [
    {
     "name": "stdout",
     "output_type": "stream",
     "text": [
      "[action, shooter, arcade, casual, fighting]\n"
     ]
    }
   ],
   "source": [
    "print(game.genres)"
   ]
  },
  {
   "cell_type": "code",
   "execution_count": null,
   "metadata": {},
   "outputs": [],
   "source": []
  }
 ],
 "metadata": {
  "kernelspec": {
   "display_name": "Python 3",
   "language": "python",
   "name": "python3"
  },
  "language_info": {
   "codemirror_mode": {
    "name": "ipython",
    "version": 3
   },
   "file_extension": ".py",
   "mimetype": "text/x-python",
   "name": "python",
   "nbconvert_exporter": "python",
   "pygments_lexer": "ipython3",
   "version": "3.6.9"
  }
 },
 "nbformat": 4,
 "nbformat_minor": 2
}
